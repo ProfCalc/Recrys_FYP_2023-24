{
 "cells": [
  {
   "cell_type": "code",
   "execution_count": 1,
   "id": "4e8bdf46",
   "metadata": {},
   "outputs": [],
   "source": [
    "import pandas as pd\n",
    "import os\n",
    "import numpy as np"
   ]
  },
  {
   "cell_type": "code",
   "execution_count": 4,
   "id": "8d98a46c",
   "metadata": {},
   "outputs": [],
   "source": [
    "path =  \"D:\\Python Codes\\Recrystallization FYP\\HR.xlsx\"  #D:\\Python Codes\\Recrystallization FYP\\HR.xlsx\n",
    "#print(path)\n",
    "df = pd.read_excel(path)\n",
    "# print(df)\n",
    "df = df.to_numpy()\n",
    "\n",
    "stepsize = df[1,3] - df[0,3]\n",
    "\n",
    "df[:,3] = (df[:, 3] / (stepsize)).astype(int)\n",
    "df[:,4] = (df[:, 4] / (stepsize)).astype(int)"
   ]
  },
  {
   "cell_type": "markdown",
   "id": "26da6815",
   "metadata": {},
   "source": [
    "Converting the numpy array "
   ]
  },
  {
   "cell_type": "code",
   "execution_count": 5,
   "id": "0b29baee",
   "metadata": {},
   "outputs": [],
   "source": [
    "r,c = int(np.max(df[:,3])),int(np.max(df[:,4]))\n",
    "# print(r,c)\n",
    "s = np.zeros((r+1,c+1,3))\n",
    "for i in df:\n",
    "    # print(i)\n",
    "    s[int(i[3])][int(i[4])] = i[0:3]"
   ]
  },
  {
   "cell_type": "markdown",
   "id": "84d0438b",
   "metadata": {},
   "source": [
    "Defining the function G"
   ]
  },
  {
   "cell_type": "code",
   "execution_count": 6,
   "id": "273cc6c8",
   "metadata": {},
   "outputs": [],
   "source": [
    "def g(phi1,phi,phi2):\n",
    "    g_one = np.array([ [np.cos(np.degrees(phi1)), np.sin(np.degrees(phi1)), 0] ,[-np.sin(np.degrees(phi1)), np.cos(np.degrees(phi1)), 0] ,[0,0,1]])\n",
    "    g_two = np.array([ [np.cos(np.degrees(phi2)), np.sin(np.degrees(phi2)), 0] ,[-np.sin(np.degrees(phi2)), np.cos(np.degrees(phi2)), 0] ,[0,0,1]])\n",
    "    g = np.array([ [1,0,0], [0, np.cos(np.degrees(phi)), np.sin(np.degrees(phi))] ,[0, -np.sin(np.degrees(phi)), np.cos(np.degrees(phi))]])\n",
    "\n",
    "    b = np.matmul(g,g_one)\n",
    "    c = np.matmul(g_two,b)\n",
    "\n",
    "    return c"
   ]
  },
  {
   "cell_type": "code",
   "execution_count": 10,
   "id": "46febdd4",
   "metadata": {},
   "outputs": [
    {
     "ename": "ValueError",
     "evalue": "setting an array element with a sequence. The requested array would exceed the maximum number of dimension of 1.",
     "output_type": "error",
     "traceback": [
      "\u001b[1;31m---------------------------------------------------------------------------\u001b[0m",
      "\u001b[1;31mValueError\u001b[0m                                Traceback (most recent call last)",
      "Cell \u001b[1;32mIn[10], line 5\u001b[0m\n\u001b[0;32m      3\u001b[0m \u001b[38;5;28;01mfor\u001b[39;00m x \u001b[38;5;129;01min\u001b[39;00m \u001b[38;5;28mrange\u001b[39m(\u001b[38;5;241m0\u001b[39m,r\u001b[38;5;241m+\u001b[39m\u001b[38;5;241m1\u001b[39m):\n\u001b[0;32m      4\u001b[0m     \u001b[38;5;28;01mfor\u001b[39;00m y \u001b[38;5;129;01min\u001b[39;00m \u001b[38;5;28mrange\u001b[39m(\u001b[38;5;241m0\u001b[39m,c\u001b[38;5;241m+\u001b[39m\u001b[38;5;241m1\u001b[39m):\n\u001b[1;32m----> 5\u001b[0m         G[x,y]\u001b[38;5;241m=\u001b[39m [g(s[x,y,\u001b[38;5;241m0\u001b[39m] , s[x,y,\u001b[38;5;241m1\u001b[39m] , s[x,y,\u001b[38;5;241m0\u001b[39m]), np\u001b[38;5;241m.\u001b[39mlinalg\u001b[38;5;241m.\u001b[39minv(g(s[x,y,\u001b[38;5;241m0\u001b[39m] , s[x,y,\u001b[38;5;241m1\u001b[39m] , s[x,y,\u001b[38;5;241m0\u001b[39m]))]\n",
      "\u001b[1;31mValueError\u001b[0m: setting an array element with a sequence. The requested array would exceed the maximum number of dimension of 1."
     ]
    }
   ],
   "source": [
    "G = np.zeros((r+1,c+1,6))\n",
    "\n",
    "for x in range(0,r+1):\n",
    "    for y in range(0,c+1):\n",
    "        G[x,y]= [g(s[x,y,0] , s[x,y,1] , s[x,y,0]), np.linalg.inv(g(s[x,y,0] , s[x,y,1] , s[x,y,0]))]\n",
    "\n",
    "# print(g(s[1,1,0],s[1,1,1],s[1,1,2]))"
   ]
  },
  {
   "cell_type": "code",
   "execution_count": 8,
   "id": "db854cb3",
   "metadata": {},
   "outputs": [
    {
     "name": "stdout",
     "output_type": "stream",
     "text": [
      "97\n"
     ]
    }
   ],
   "source": []
  },
  {
   "cell_type": "code",
   "execution_count": null,
   "id": "e8a111b5",
   "metadata": {},
   "outputs": [],
   "source": []
  }
 ],
 "metadata": {
  "kernelspec": {
   "display_name": "Python 3 (ipykernel)",
   "language": "python",
   "name": "python3"
  },
  "language_info": {
   "codemirror_mode": {
    "name": "ipython",
    "version": 3
   },
   "file_extension": ".py",
   "mimetype": "text/x-python",
   "name": "python",
   "nbconvert_exporter": "python",
   "pygments_lexer": "ipython3",
   "version": "3.10.9"
  }
 },
 "nbformat": 4,
 "nbformat_minor": 5
}
