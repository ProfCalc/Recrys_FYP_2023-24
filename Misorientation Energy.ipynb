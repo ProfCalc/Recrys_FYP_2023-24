{
 "cells": [
  {
   "cell_type": "code",
   "execution_count": null,
   "id": "4e8bdf46",
   "metadata": {},
   "outputs": [],
   "source": [
    "import pandas as pd\n",
    "import os\n",
    "import numpy as np\n",
    "import csv"
   ]
  },
  {
   "cell_type": "code",
   "execution_count": null,
   "id": "8d98a46c",
   "metadata": {},
   "outputs": [],
   "source": [
    "path =  r\"C:\\Users\\mme\\Desktop\\BTech FYP _ Tamaghna\\Data\\First Data set\\HR.xlsx\"  #D:\\Python Codes\\Recrystallization FYP\\HR.xlsx\n",
    "#print(path)\n",
    "df = pd.read_excel(path)\n",
    "# print(df)\n",
    "df = df.to_numpy()\n",
    "\n",
    "stepsize = df[1,3] - df[0,3]\n",
    "\n",
    "df[:,3] = (df[:, 3] / (stepsize)).astype(int)\n",
    "df[:,4] = (df[:, 4] / (stepsize)).astype(int)"
   ]
  },
  {
   "cell_type": "markdown",
   "id": "26da6815",
   "metadata": {},
   "source": [
    "Converting the numpy array "
   ]
  },
  {
   "cell_type": "code",
   "execution_count": null,
   "id": "0b29baee",
   "metadata": {},
   "outputs": [],
   "source": [
    "theta_m = 15 # 15 degree is the critical value for misorientation\n",
    "\n",
    "r,c = int(np.max(df[:,3])),int(np.max(df[:,4]))\n",
    "# print(r,c)\n",
    "s = np.zeros((r+1,c+1,3))\n",
    "for i in df:\n",
    "    # print(i)\n",
    "    s[int(i[3])][int(i[4])] = i[0:3]"
   ]
  },
  {
   "cell_type": "markdown",
   "id": "84d0438b",
   "metadata": {},
   "source": [
    "Defining the function G"
   ]
  },
  {
   "cell_type": "code",
   "execution_count": null,
   "id": "273cc6c8",
   "metadata": {},
   "outputs": [],
   "source": [
    "def g(phi1,phi,phi2):\n",
    "    g_one = np.array([ [np.cos(phi1), np.sin(phi1), 0] ,[-np.sin(phi1), np.cos(phi1), 0] ,[0,0,1]])\n",
    "    g_two = np.array([ [np.cos(phi2), np.sin(phi2), 0] ,[-np.sin(phi2), np.cos(phi2), 0] ,[0,0,1]])\n",
    "    g = np.array([ [1,0,0], [0, np.cos(phi), np.sin(phi)] ,[0, -np.sin(phi), np.cos(phi)]])\n",
    "\n",
    "    b = np.matmul(g,g_one)\n",
    "    c = np.matmul(g_two,b)\n",
    "\n",
    "    return c\n",
    "print(g(s[1,1,0],s[1,1,1],s[1,1,2]))"
   ]
  },
  {
   "cell_type": "code",
   "execution_count": null,
   "id": "8e6c1ac2",
   "metadata": {},
   "outputs": [],
   "source": [
    "\n",
    "    "
   ]
  },
  {
   "cell_type": "code",
   "execution_count": null,
   "id": "46febdd4",
   "metadata": {},
   "outputs": [],
   "source": [
    "G = np.zeros((r + 1, c + 1, 2, 3, 3))\n",
    "\n",
    "for x in range(0,r+1):\n",
    "    for y in range(0,c+1):\n",
    "        G[x,y]= [g(s[x,y,0] , s[x,y,1] , s[x,y,0]), np.linalg.inv(g(s[x,y,0] , s[x,y,1] , s[x,y,0]))]\n",
    "\n",
    "# print(g(s[1,1,0],s[1,1,1],s[1,1,2]))\n"
   ]
  },
  {
   "cell_type": "code",
   "execution_count": null,
   "id": "db854cb3",
   "metadata": {},
   "outputs": [],
   "source": [
    "print(G)"
   ]
  },
  {
   "cell_type": "code",
   "execution_count": null,
   "id": "e8a111b5",
   "metadata": {},
   "outputs": [],
   "source": [
    "def theta(del_g): \n",
    "    symmetry_matrix = np.array([\n",
    "    [[1, 0, 0], [0, 1, 0], [0, 0, 1]],\n",
    "    [[0, 0, 1], [1, 0, 0], [0, 1, 0]],\n",
    "    [[0, 1, 0], [0, 0, 1], [1, 0, 0]],\n",
    "    [[0, -1, 0], [0, 0, 1], [-1, 0, 0]],\n",
    "    [[0, -1, 0], [0, 0, -1], [1, 0, 0]],\n",
    "    [[0, 1, 0], [0, 0, -1], [-1, 0, 0]],\n",
    "    [[0, 0, -1], [1, 0, 0], [0, -1, 0]],\n",
    "    [[0, 0, -1], [-1, 0, 0], [0, 1, 0]],\n",
    "    [[0, 0, 1], [-1, 0, 0], [0, -1, 0]],\n",
    "    [[-1, 0, 0], [0, 1, 0], [0, 0, -1]],\n",
    "    [[-1, 0, 0], [0, -1, 0], [0, 0, 1]],\n",
    "    [[1, 0, 0], [0, -1, 0], [0, 0, -1]],\n",
    "    [[0, 0, -1], [0, -1, 0], [-1, 0, 0]],\n",
    "    [[0, 0, 1], [0, -1, 0], [1, 0, 0]],\n",
    "    [[0, 0, 1], [0, 1, 0], [-1, 0, 0]],\n",
    "    [[0, 0, -1], [0, 1, 0], [1, 0, 0]],\n",
    "    [[-1, 0, 0], [0, 0, -1], [0, -1, 0]],\n",
    "    [[1, 0, 0], [0, 0, -1], [0, 1, 0]],\n",
    "    [[1, 0, 0], [0, 0, 1], [0, -1, 0]],\n",
    "    [[-1, 0, 0], [0, 0, 1], [0, 1, 0]],\n",
    "    [[0, -1, 0], [-1, 0, 0], [0, 0, -1]],\n",
    "    [[0, 1, 0], [-1, 0, 0], [0, 0, 1]],\n",
    "    [[0, 1, 0], [1, 0, 0], [0, 0, -1]],\n",
    "    [[0, -1, 0], [1, 0, 0], [0, 0, 1]]])\n",
    "    \n",
    "    min_value = np.inf\n",
    "\n",
    "    for i in symmetry_matrix:\n",
    "        n_val = (np.arccos((np.trace(np.matmul( i, del_g) ) - 1) / 2))\n",
    "        print(n_val)\n",
    "        if  n_val < min_value:\n",
    "            min_value = n_val\n",
    "     \n",
    "    return min_value"
   ]
  },
  {
   "cell_type": "code",
   "execution_count": null,
   "id": "46f94e88",
   "metadata": {},
   "outputs": [],
   "source": [
    "theta(np.matmul(G[1,1,0],G[1,2,1]))"
   ]
  },
  {
   "cell_type": "code",
   "execution_count": null,
   "id": "c0eea86d",
   "metadata": {},
   "outputs": [],
   "source": [
    "def stored_energy(theta):\n",
    "    #Read schokely equation\n",
    "    s = np.degrees(theta)\n",
    "    \n",
    "    if s < 0.1:\n",
    "        return 0\n",
    "\n",
    "    if s > theta_m:\n",
    "        return 10/2\n",
    "    else:\n",
    "        return (10*(s/theta_m)*(1-np.log(s/theta_m)))/2\n",
    "    "
   ]
  },
  {
   "cell_type": "code",
   "execution_count": null,
   "id": "bfcccecc",
   "metadata": {},
   "outputs": [],
   "source": [
    "#Basic Output of inner cells\n",
    "\n",
    "stored_energy_values = np.zeros((r + 1, c + 1, 1))\n",
    "\n",
    "for x in range(1,r):\n",
    "    for y in range(1,c,1):\n",
    "        for i in range(-1,2,1):\n",
    "            for j in range(-1,2,1):\n",
    "                stored_energy_values[x,y,0] = stored_energy_values[x,y,0] + stored_energy(theta(np.matmul(G[x,y,0],G[x+i,y+j,1])))\n",
    "                \n",
    "        stored_energy_values[x,y,0] = (stored_energy_values[x,y,0] - stored_energy(theta(np.matmul(G[x,y,0],G[x,y,1]))))/8        \n",
    "        "
   ]
  },
  {
   "cell_type": "code",
   "execution_count": null,
   "id": "9cd0f3d9",
   "metadata": {},
   "outputs": [],
   "source": [
    "f = open(\"energy_values1.txt\", \"w\" )\n",
    "f.write(\"X \\t Y \\t E \\n\")\n",
    "for x in range(len(stored_energy_values)):\n",
    "    for y in range(len(stored_energy_values[x])):\n",
    "        f.write(\"%s \\t %s \\t %s \\n\"%(x,y,stored_energy_values[x,y,0]))"
   ]
  },
  {
   "cell_type": "code",
   "execution_count": null,
   "id": "02a361a9",
   "metadata": {},
   "outputs": [],
   "source": [
    "with open('students.csv', 'w', newline='') as file:\n",
    "    writer = csv.writer(file)\n",
    "    writer.writerow([\"X\", \"Y\", \"E\"])\n",
    "    for x in range(len(stored_energy_values)):\n",
    "        for y in range(len(stored_energy_values[x])):\n",
    "            writer.writerow([x,y,stored_energy_values[x,y,0]])\n",
    "\n"
   ]
  }
 ],
 "metadata": {
  "kernelspec": {
   "display_name": "Python 3 (ipykernel)",
   "language": "python",
   "name": "python3"
  },
  "language_info": {
   "codemirror_mode": {
    "name": "ipython",
    "version": 3
   },
   "file_extension": ".py",
   "mimetype": "text/x-python",
   "name": "python",
   "nbconvert_exporter": "python",
   "pygments_lexer": "ipython3",
   "version": "3.9.7"
  }
 },
 "nbformat": 4,
 "nbformat_minor": 5
}
